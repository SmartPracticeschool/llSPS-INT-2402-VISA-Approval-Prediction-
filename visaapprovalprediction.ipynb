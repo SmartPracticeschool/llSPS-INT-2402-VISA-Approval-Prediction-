{
 "cells": [
  {
   "cell_type": "code",
   "execution_count": 1,
   "metadata": {},
   "outputs": [],
   "source": [
    "import numpy as np\n",
    "import pandas as pd"
   ]
  },
  {
   "cell_type": "code",
   "execution_count": 2,
   "metadata": {},
   "outputs": [
    {
     "name": "stderr",
     "output_type": "stream",
     "text": [
      "C:\\Users\\Hpp\\anaconda3\\lib\\site-packages\\IPython\\core\\interactiveshell.py:3063: DtypeWarning: Columns (25) have mixed types.Specify dtype option on import or set low_memory=False.\n",
      "  interactivity=interactivity, compiler=compiler, result=result)\n"
     ]
    }
   ],
   "source": [
    "dataset=pd.read_csv('1. Master H1B Dataset.csv',encoding='latin1')"
   ]
  },
  {
   "cell_type": "code",
   "execution_count": 3,
   "metadata": {},
   "outputs": [
    {
     "data": {
      "text/html": [
       "<div>\n",
       "<style scoped>\n",
       "    .dataframe tbody tr th:only-of-type {\n",
       "        vertical-align: middle;\n",
       "    }\n",
       "\n",
       "    .dataframe tbody tr th {\n",
       "        vertical-align: top;\n",
       "    }\n",
       "\n",
       "    .dataframe thead th {\n",
       "        text-align: right;\n",
       "    }\n",
       "</style>\n",
       "<table border=\"1\" class=\"dataframe\">\n",
       "  <thead>\n",
       "    <tr style=\"text-align: right;\">\n",
       "      <th></th>\n",
       "      <th>CASE_SUBMITTED_DAY</th>\n",
       "      <th>CASE_SUBMITTED_MONTH</th>\n",
       "      <th>CASE_SUBMITTED_YEAR</th>\n",
       "      <th>DECISION_DAY</th>\n",
       "      <th>DECISION_MONTH</th>\n",
       "      <th>DECISION_YEAR</th>\n",
       "      <th>VISA_CLASS</th>\n",
       "      <th>EMPLOYER_NAME</th>\n",
       "      <th>EMPLOYER_STATE</th>\n",
       "      <th>EMPLOYER_COUNTRY</th>\n",
       "      <th>...</th>\n",
       "      <th>PW_SOURCE_YEAR</th>\n",
       "      <th>PW_SOURCE_OTHER</th>\n",
       "      <th>WAGE_RATE_OF_PAY_FROM</th>\n",
       "      <th>WAGE_RATE_OF_PAY_TO</th>\n",
       "      <th>WAGE_UNIT_OF_PAY</th>\n",
       "      <th>H-1B_DEPENDENT</th>\n",
       "      <th>WILLFUL_VIOLATOR</th>\n",
       "      <th>WORKSITE_STATE</th>\n",
       "      <th>WORKSITE_POSTAL_CODE</th>\n",
       "      <th>CASE_STATUS</th>\n",
       "    </tr>\n",
       "  </thead>\n",
       "  <tbody>\n",
       "    <tr>\n",
       "      <th>0</th>\n",
       "      <td>24</td>\n",
       "      <td>2</td>\n",
       "      <td>2016</td>\n",
       "      <td>1</td>\n",
       "      <td>10</td>\n",
       "      <td>2016</td>\n",
       "      <td>H1B</td>\n",
       "      <td>DISCOVER PRODUCTS INC</td>\n",
       "      <td>IL</td>\n",
       "      <td>UNITED STATES OF AMERICA</td>\n",
       "      <td>...</td>\n",
       "      <td>2015.0</td>\n",
       "      <td>OFLC ONLINE DATA CENTER</td>\n",
       "      <td>65811.0</td>\n",
       "      <td>67320.0</td>\n",
       "      <td>Year</td>\n",
       "      <td>N</td>\n",
       "      <td>N</td>\n",
       "      <td>IL</td>\n",
       "      <td>60015</td>\n",
       "      <td>CERTIFIEDWITHDRAWN</td>\n",
       "    </tr>\n",
       "    <tr>\n",
       "      <th>1</th>\n",
       "      <td>4</td>\n",
       "      <td>3</td>\n",
       "      <td>2016</td>\n",
       "      <td>1</td>\n",
       "      <td>10</td>\n",
       "      <td>2016</td>\n",
       "      <td>H1B</td>\n",
       "      <td>DFS SERVICES LLC</td>\n",
       "      <td>IL</td>\n",
       "      <td>UNITED STATES OF AMERICA</td>\n",
       "      <td>...</td>\n",
       "      <td>2015.0</td>\n",
       "      <td>WILLIS TOWERS WATSON SURVEY</td>\n",
       "      <td>53000.0</td>\n",
       "      <td>57200.0</td>\n",
       "      <td>Year</td>\n",
       "      <td>N</td>\n",
       "      <td>N</td>\n",
       "      <td>IL</td>\n",
       "      <td>60015</td>\n",
       "      <td>CERTIFIEDWITHDRAWN</td>\n",
       "    </tr>\n",
       "    <tr>\n",
       "      <th>2</th>\n",
       "      <td>10</td>\n",
       "      <td>3</td>\n",
       "      <td>2016</td>\n",
       "      <td>1</td>\n",
       "      <td>10</td>\n",
       "      <td>2016</td>\n",
       "      <td>H1B</td>\n",
       "      <td>EASTBANC TECHNOLOGIES LLC</td>\n",
       "      <td>DC</td>\n",
       "      <td>UNITED STATES OF AMERICA</td>\n",
       "      <td>...</td>\n",
       "      <td>2015.0</td>\n",
       "      <td>OFLC ONLINE DATA CENTER</td>\n",
       "      <td>77000.0</td>\n",
       "      <td>0.0</td>\n",
       "      <td>Year</td>\n",
       "      <td>Y</td>\n",
       "      <td>N</td>\n",
       "      <td>DC</td>\n",
       "      <td>20007</td>\n",
       "      <td>CERTIFIEDWITHDRAWN</td>\n",
       "    </tr>\n",
       "    <tr>\n",
       "      <th>3</th>\n",
       "      <td>28</td>\n",
       "      <td>9</td>\n",
       "      <td>2016</td>\n",
       "      <td>1</td>\n",
       "      <td>10</td>\n",
       "      <td>2016</td>\n",
       "      <td>H1B</td>\n",
       "      <td>INFO SERVICES LLC</td>\n",
       "      <td>MI</td>\n",
       "      <td>UNITED STATES OF AMERICA</td>\n",
       "      <td>...</td>\n",
       "      <td>2016.0</td>\n",
       "      <td>OFLC ONLINE DATA CENTER</td>\n",
       "      <td>102000.0</td>\n",
       "      <td>0.0</td>\n",
       "      <td>Year</td>\n",
       "      <td>Y</td>\n",
       "      <td>N</td>\n",
       "      <td>NJ</td>\n",
       "      <td>7302</td>\n",
       "      <td>WITHDRAWN</td>\n",
       "    </tr>\n",
       "    <tr>\n",
       "      <th>4</th>\n",
       "      <td>22</td>\n",
       "      <td>2</td>\n",
       "      <td>2015</td>\n",
       "      <td>2</td>\n",
       "      <td>10</td>\n",
       "      <td>2016</td>\n",
       "      <td>H1B</td>\n",
       "      <td>BBandT CORPORATION</td>\n",
       "      <td>NC</td>\n",
       "      <td>UNITED STATES OF AMERICA</td>\n",
       "      <td>...</td>\n",
       "      <td>2015.0</td>\n",
       "      <td>OFLC ONLINE DATA CENTER</td>\n",
       "      <td>132500.0</td>\n",
       "      <td>0.0</td>\n",
       "      <td>Year</td>\n",
       "      <td>N</td>\n",
       "      <td>N</td>\n",
       "      <td>NY</td>\n",
       "      <td>10036</td>\n",
       "      <td>CERTIFIEDWITHDRAWN</td>\n",
       "    </tr>\n",
       "  </tbody>\n",
       "</table>\n",
       "<p>5 rows × 27 columns</p>\n",
       "</div>"
      ],
      "text/plain": [
       "   CASE_SUBMITTED_DAY  CASE_SUBMITTED_MONTH  CASE_SUBMITTED_YEAR  \\\n",
       "0                  24                     2                 2016   \n",
       "1                   4                     3                 2016   \n",
       "2                  10                     3                 2016   \n",
       "3                  28                     9                 2016   \n",
       "4                  22                     2                 2015   \n",
       "\n",
       "   DECISION_DAY  DECISION_MONTH  DECISION_YEAR VISA_CLASS  \\\n",
       "0             1              10           2016        H1B   \n",
       "1             1              10           2016        H1B   \n",
       "2             1              10           2016        H1B   \n",
       "3             1              10           2016        H1B   \n",
       "4             2              10           2016        H1B   \n",
       "\n",
       "               EMPLOYER_NAME EMPLOYER_STATE          EMPLOYER_COUNTRY  ...  \\\n",
       "0      DISCOVER PRODUCTS INC             IL  UNITED STATES OF AMERICA  ...   \n",
       "1           DFS SERVICES LLC             IL  UNITED STATES OF AMERICA  ...   \n",
       "2  EASTBANC TECHNOLOGIES LLC             DC  UNITED STATES OF AMERICA  ...   \n",
       "3          INFO SERVICES LLC             MI  UNITED STATES OF AMERICA  ...   \n",
       "4         BBandT CORPORATION             NC  UNITED STATES OF AMERICA  ...   \n",
       "\n",
       "  PW_SOURCE_YEAR              PW_SOURCE_OTHER  WAGE_RATE_OF_PAY_FROM  \\\n",
       "0         2015.0      OFLC ONLINE DATA CENTER                65811.0   \n",
       "1         2015.0  WILLIS TOWERS WATSON SURVEY                53000.0   \n",
       "2         2015.0      OFLC ONLINE DATA CENTER                77000.0   \n",
       "3         2016.0      OFLC ONLINE DATA CENTER               102000.0   \n",
       "4         2015.0      OFLC ONLINE DATA CENTER               132500.0   \n",
       "\n",
       "  WAGE_RATE_OF_PAY_TO  WAGE_UNIT_OF_PAY H-1B_DEPENDENT WILLFUL_VIOLATOR  \\\n",
       "0             67320.0              Year              N                N   \n",
       "1             57200.0              Year              N                N   \n",
       "2                 0.0              Year              Y                N   \n",
       "3                 0.0              Year              Y                N   \n",
       "4                 0.0              Year              N                N   \n",
       "\n",
       "   WORKSITE_STATE WORKSITE_POSTAL_CODE         CASE_STATUS  \n",
       "0              IL                60015  CERTIFIEDWITHDRAWN  \n",
       "1              IL                60015  CERTIFIEDWITHDRAWN  \n",
       "2              DC                20007  CERTIFIEDWITHDRAWN  \n",
       "3              NJ                 7302           WITHDRAWN  \n",
       "4              NY                10036  CERTIFIEDWITHDRAWN  \n",
       "\n",
       "[5 rows x 27 columns]"
      ]
     },
     "execution_count": 3,
     "metadata": {},
     "output_type": "execute_result"
    }
   ],
   "source": [
    "dataset.head(5)"
   ]
  },
  {
   "cell_type": "code",
   "execution_count": 4,
   "metadata": {},
   "outputs": [],
   "source": [
    "dataset.drop('PW_UNIT_OF_PAY',axis=1,inplace=True)"
   ]
  },
  {
   "cell_type": "code",
   "execution_count": 5,
   "metadata": {},
   "outputs": [],
   "source": [
    "dataset.drop('DECISION_DAY',axis=1,inplace=True)"
   ]
  },
  {
   "cell_type": "code",
   "execution_count": 6,
   "metadata": {},
   "outputs": [],
   "source": [
    "dataset.drop('DECISION_MONTH',axis=1,inplace=True)"
   ]
  },
  {
   "cell_type": "code",
   "execution_count": 7,
   "metadata": {},
   "outputs": [],
   "source": [
    "dataset.drop('NAICS_CODE',axis=1,inplace=True)"
   ]
  },
  {
   "cell_type": "code",
   "execution_count": 9,
   "metadata": {},
   "outputs": [],
   "source": [
    "dataset.drop('TOTAL_WORKERS',axis=1,inplace=True)"
   ]
  },
  {
   "cell_type": "code",
   "execution_count": 10,
   "metadata": {},
   "outputs": [],
   "source": [
    "dataset.drop('WAGE_UNIT_OF_PAY',axis=1,inplace=True)"
   ]
  },
  {
   "cell_type": "code",
   "execution_count": 11,
   "metadata": {},
   "outputs": [],
   "source": [
    "dataset.drop('WAGE_RATE_OF_PAY_FROM',axis=1,inplace=True)"
   ]
  },
  {
   "cell_type": "code",
   "execution_count": 12,
   "metadata": {},
   "outputs": [],
   "source": [
    "dataset.drop('WAGE_RATE_OF_PAY_TO',axis=1,inplace=True)"
   ]
  },
  {
   "cell_type": "code",
   "execution_count": 13,
   "metadata": {},
   "outputs": [],
   "source": [
    "dataset.drop('H-1B_DEPENDENT',axis=1,inplace=True)"
   ]
  },
  {
   "cell_type": "code",
   "execution_count": 14,
   "metadata": {},
   "outputs": [],
   "source": [
    "dataset.drop('PW_SOURCE',axis=1,inplace=True)"
   ]
  },
  {
   "cell_type": "code",
   "execution_count": 15,
   "metadata": {},
   "outputs": [],
   "source": [
    "dataset.drop('WILLFUL_VIOLATOR',axis=1,inplace=True)"
   ]
  },
  {
   "cell_type": "code",
   "execution_count": 16,
   "metadata": {},
   "outputs": [],
   "source": [
    "dataset.drop('WORKSITE_POSTAL_CODE',axis=1,inplace=True)"
   ]
  },
  {
   "cell_type": "code",
   "execution_count": 17,
   "metadata": {},
   "outputs": [],
   "source": [
    "dataset.drop('CASE_SUBMITTED_DAY',axis=1,inplace=True)"
   ]
  },
  {
   "cell_type": "code",
   "execution_count": 18,
   "metadata": {},
   "outputs": [],
   "source": [
    "dataset.drop('DECISION_YEAR',axis=1,inplace=True)"
   ]
  },
  {
   "cell_type": "code",
   "execution_count": 19,
   "metadata": {},
   "outputs": [],
   "source": [
    "dataset.drop('VISA_CLASS',axis=1,inplace=True)"
   ]
  },
  {
   "cell_type": "code",
   "execution_count": 20,
   "metadata": {},
   "outputs": [],
   "source": [
    "dataset.drop('EMPLOYER_STATE',axis=1,inplace=True)"
   ]
  },
  {
   "cell_type": "code",
   "execution_count": 21,
   "metadata": {},
   "outputs": [],
   "source": [
    "dataset.drop('EMPLOYER_COUNTRY',axis=1,inplace=True)"
   ]
  },
  {
   "cell_type": "code",
   "execution_count": 22,
   "metadata": {},
   "outputs": [],
   "source": [
    "dataset.drop('CASE_SUBMITTED_MONTH',axis=1,inplace=True)"
   ]
  },
  {
   "cell_type": "code",
   "execution_count": 23,
   "metadata": {},
   "outputs": [],
   "source": [
    "dataset.drop('CASE_SUBMITTED_YEAR',axis=1,inplace=True)"
   ]
  },
  {
   "cell_type": "code",
   "execution_count": 24,
   "metadata": {},
   "outputs": [],
   "source": [
    "dataset.drop('EMPLOYER_NAME',axis=1,inplace=True)"
   ]
  },
  {
   "cell_type": "code",
   "execution_count": 25,
   "metadata": {},
   "outputs": [],
   "source": [
    "dataset.drop('SOC_NAME',axis=1,inplace=True)"
   ]
  },
  {
   "cell_type": "code",
   "execution_count": 26,
   "metadata": {},
   "outputs": [
    {
     "data": {
      "text/plain": [
       "FULL_TIME_POSITION     True\n",
       "PREVAILING_WAGE       False\n",
       "PW_SOURCE_YEAR         True\n",
       "PW_SOURCE_OTHER       False\n",
       "WORKSITE_STATE        False\n",
       "CASE_STATUS           False\n",
       "dtype: bool"
      ]
     },
     "execution_count": 26,
     "metadata": {},
     "output_type": "execute_result"
    }
   ],
   "source": [
    "dataset.isnull().any()"
   ]
  },
  {
   "cell_type": "code",
   "execution_count": 27,
   "metadata": {},
   "outputs": [
    {
     "data": {
      "text/html": [
       "<div>\n",
       "<style scoped>\n",
       "    .dataframe tbody tr th:only-of-type {\n",
       "        vertical-align: middle;\n",
       "    }\n",
       "\n",
       "    .dataframe tbody tr th {\n",
       "        vertical-align: top;\n",
       "    }\n",
       "\n",
       "    .dataframe thead th {\n",
       "        text-align: right;\n",
       "    }\n",
       "</style>\n",
       "<table border=\"1\" class=\"dataframe\">\n",
       "  <thead>\n",
       "    <tr style=\"text-align: right;\">\n",
       "      <th></th>\n",
       "      <th>FULL_TIME_POSITION</th>\n",
       "      <th>PREVAILING_WAGE</th>\n",
       "      <th>PW_SOURCE_YEAR</th>\n",
       "      <th>PW_SOURCE_OTHER</th>\n",
       "      <th>WORKSITE_STATE</th>\n",
       "      <th>CASE_STATUS</th>\n",
       "    </tr>\n",
       "  </thead>\n",
       "  <tbody>\n",
       "    <tr>\n",
       "      <th>0</th>\n",
       "      <td>Y</td>\n",
       "      <td>59197.0</td>\n",
       "      <td>2015.0</td>\n",
       "      <td>OFLC ONLINE DATA CENTER</td>\n",
       "      <td>IL</td>\n",
       "      <td>CERTIFIEDWITHDRAWN</td>\n",
       "    </tr>\n",
       "    <tr>\n",
       "      <th>1</th>\n",
       "      <td>Y</td>\n",
       "      <td>49800.0</td>\n",
       "      <td>2015.0</td>\n",
       "      <td>WILLIS TOWERS WATSON SURVEY</td>\n",
       "      <td>IL</td>\n",
       "      <td>CERTIFIEDWITHDRAWN</td>\n",
       "    </tr>\n",
       "  </tbody>\n",
       "</table>\n",
       "</div>"
      ],
      "text/plain": [
       "  FULL_TIME_POSITION  PREVAILING_WAGE  PW_SOURCE_YEAR  \\\n",
       "0                  Y          59197.0          2015.0   \n",
       "1                  Y          49800.0          2015.0   \n",
       "\n",
       "               PW_SOURCE_OTHER WORKSITE_STATE         CASE_STATUS  \n",
       "0      OFLC ONLINE DATA CENTER             IL  CERTIFIEDWITHDRAWN  \n",
       "1  WILLIS TOWERS WATSON SURVEY             IL  CERTIFIEDWITHDRAWN  "
      ]
     },
     "execution_count": 27,
     "metadata": {},
     "output_type": "execute_result"
    }
   ],
   "source": [
    "dataset.head(2)"
   ]
  },
  {
   "cell_type": "code",
   "execution_count": 28,
   "metadata": {},
   "outputs": [],
   "source": [
    "dataset['FULL_TIME_POSITION'].fillna(dataset['FULL_TIME_POSITION'].mode()[0],inplace=True)\n",
    "dataset['PW_SOURCE_YEAR'].fillna(dataset['PW_SOURCE_YEAR'].mode()[0],inplace=True)"
   ]
  },
  {
   "cell_type": "code",
   "execution_count": 29,
   "metadata": {},
   "outputs": [
    {
     "data": {
      "text/plain": [
       "FULL_TIME_POSITION    False\n",
       "PREVAILING_WAGE       False\n",
       "PW_SOURCE_YEAR        False\n",
       "PW_SOURCE_OTHER       False\n",
       "WORKSITE_STATE        False\n",
       "CASE_STATUS           False\n",
       "dtype: bool"
      ]
     },
     "execution_count": 29,
     "metadata": {},
     "output_type": "execute_result"
    }
   ],
   "source": [
    "dataset.isnull().any()"
   ]
  },
  {
   "cell_type": "code",
   "execution_count": 30,
   "metadata": {},
   "outputs": [],
   "source": [
    "from sklearn.preprocessing import LabelEncoder\n",
    "le = LabelEncoder()\n",
    "dataset['FULL_TIME_POSITION']= le.fit_transform(dataset['FULL_TIME_POSITION'])\n",
    "dataset['PW_SOURCE_OTHER']= le.fit_transform(dataset['PW_SOURCE_OTHER'])\n",
    "dataset['WORKSITE_STATE']= le.fit_transform(dataset['WORKSITE_STATE'])\n",
    "dataset['CASE_STATUS']= le.fit_transform(dataset['CASE_STATUS'])"
   ]
  },
  {
   "cell_type": "code",
   "execution_count": 31,
   "metadata": {},
   "outputs": [
    {
     "data": {
      "text/html": [
       "<div>\n",
       "<style scoped>\n",
       "    .dataframe tbody tr th:only-of-type {\n",
       "        vertical-align: middle;\n",
       "    }\n",
       "\n",
       "    .dataframe tbody tr th {\n",
       "        vertical-align: top;\n",
       "    }\n",
       "\n",
       "    .dataframe thead th {\n",
       "        text-align: right;\n",
       "    }\n",
       "</style>\n",
       "<table border=\"1\" class=\"dataframe\">\n",
       "  <thead>\n",
       "    <tr style=\"text-align: right;\">\n",
       "      <th></th>\n",
       "      <th>FULL_TIME_POSITION</th>\n",
       "      <th>PREVAILING_WAGE</th>\n",
       "      <th>PW_SOURCE_YEAR</th>\n",
       "      <th>PW_SOURCE_OTHER</th>\n",
       "      <th>WORKSITE_STATE</th>\n",
       "      <th>CASE_STATUS</th>\n",
       "    </tr>\n",
       "  </thead>\n",
       "  <tbody>\n",
       "    <tr>\n",
       "      <th>0</th>\n",
       "      <td>1</td>\n",
       "      <td>59197.0</td>\n",
       "      <td>2015.0</td>\n",
       "      <td>157</td>\n",
       "      <td>15</td>\n",
       "      <td>1</td>\n",
       "    </tr>\n",
       "    <tr>\n",
       "      <th>1</th>\n",
       "      <td>1</td>\n",
       "      <td>49800.0</td>\n",
       "      <td>2015.0</td>\n",
       "      <td>231</td>\n",
       "      <td>15</td>\n",
       "      <td>1</td>\n",
       "    </tr>\n",
       "    <tr>\n",
       "      <th>2</th>\n",
       "      <td>1</td>\n",
       "      <td>76502.0</td>\n",
       "      <td>2015.0</td>\n",
       "      <td>157</td>\n",
       "      <td>7</td>\n",
       "      <td>1</td>\n",
       "    </tr>\n",
       "    <tr>\n",
       "      <th>3</th>\n",
       "      <td>1</td>\n",
       "      <td>90376.0</td>\n",
       "      <td>2016.0</td>\n",
       "      <td>157</td>\n",
       "      <td>33</td>\n",
       "      <td>3</td>\n",
       "    </tr>\n",
       "    <tr>\n",
       "      <th>4</th>\n",
       "      <td>1</td>\n",
       "      <td>116605.0</td>\n",
       "      <td>2015.0</td>\n",
       "      <td>157</td>\n",
       "      <td>36</td>\n",
       "      <td>1</td>\n",
       "    </tr>\n",
       "  </tbody>\n",
       "</table>\n",
       "</div>"
      ],
      "text/plain": [
       "   FULL_TIME_POSITION  PREVAILING_WAGE  PW_SOURCE_YEAR  PW_SOURCE_OTHER  \\\n",
       "0                   1          59197.0          2015.0              157   \n",
       "1                   1          49800.0          2015.0              231   \n",
       "2                   1          76502.0          2015.0              157   \n",
       "3                   1          90376.0          2016.0              157   \n",
       "4                   1         116605.0          2015.0              157   \n",
       "\n",
       "   WORKSITE_STATE  CASE_STATUS  \n",
       "0              15            1  \n",
       "1              15            1  \n",
       "2               7            1  \n",
       "3              33            3  \n",
       "4              36            1  "
      ]
     },
     "execution_count": 31,
     "metadata": {},
     "output_type": "execute_result"
    }
   ],
   "source": [
    "dataset.head(5)"
   ]
  },
  {
   "cell_type": "code",
   "execution_count": 41,
   "metadata": {},
   "outputs": [],
   "source": [
    "x=dataset.iloc[:,1:5].values\n",
    "y=dataset.iloc[:,5:6].values"
   ]
  },
  {
   "cell_type": "code",
   "execution_count": 42,
   "metadata": {},
   "outputs": [
    {
     "data": {
      "text/plain": [
       "(528134, 4)"
      ]
     },
     "execution_count": 42,
     "metadata": {},
     "output_type": "execute_result"
    }
   ],
   "source": [
    "x.shape"
   ]
  },
  {
   "cell_type": "code",
   "execution_count": 43,
   "metadata": {},
   "outputs": [
    {
     "data": {
      "text/plain": [
       "(528134, 1)"
      ]
     },
     "execution_count": 43,
     "metadata": {},
     "output_type": "execute_result"
    }
   ],
   "source": [
    "y.shape"
   ]
  },
  {
   "cell_type": "code",
   "execution_count": 44,
   "metadata": {},
   "outputs": [
    {
     "data": {
      "text/plain": [
       "array([[5.91970e+04, 2.01500e+03, 1.57000e+02, 1.50000e+01],\n",
       "       [4.98000e+04, 2.01500e+03, 2.31000e+02, 1.50000e+01],\n",
       "       [7.65020e+04, 2.01500e+03, 1.57000e+02, 7.00000e+00],\n",
       "       ...,\n",
       "       [7.94980e+04, 2.01600e+03, 1.57000e+02, 4.60000e+01],\n",
       "       [1.18352e+05, 2.01600e+03, 1.57000e+02, 2.50000e+01],\n",
       "       [4.91300e+04, 2.01600e+03, 1.57000e+02, 4.70000e+01]])"
      ]
     },
     "execution_count": 44,
     "metadata": {},
     "output_type": "execute_result"
    }
   ],
   "source": [
    "x"
   ]
  },
  {
   "cell_type": "code",
   "execution_count": 45,
   "metadata": {},
   "outputs": [
    {
     "data": {
      "text/plain": [
       "array([[1],\n",
       "       [1],\n",
       "       [1],\n",
       "       ...,\n",
       "       [3],\n",
       "       [3],\n",
       "       [3]])"
      ]
     },
     "execution_count": 45,
     "metadata": {},
     "output_type": "execute_result"
    }
   ],
   "source": [
    "y"
   ]
  },
  {
   "cell_type": "code",
   "execution_count": 46,
   "metadata": {},
   "outputs": [
    {
     "data": {
      "text/html": [
       "<div>\n",
       "<style scoped>\n",
       "    .dataframe tbody tr th:only-of-type {\n",
       "        vertical-align: middle;\n",
       "    }\n",
       "\n",
       "    .dataframe tbody tr th {\n",
       "        vertical-align: top;\n",
       "    }\n",
       "\n",
       "    .dataframe thead th {\n",
       "        text-align: right;\n",
       "    }\n",
       "</style>\n",
       "<table border=\"1\" class=\"dataframe\">\n",
       "  <thead>\n",
       "    <tr style=\"text-align: right;\">\n",
       "      <th></th>\n",
       "      <th>FULL_TIME_POSITION</th>\n",
       "      <th>PREVAILING_WAGE</th>\n",
       "      <th>PW_SOURCE_YEAR</th>\n",
       "      <th>PW_SOURCE_OTHER</th>\n",
       "      <th>WORKSITE_STATE</th>\n",
       "      <th>CASE_STATUS</th>\n",
       "    </tr>\n",
       "  </thead>\n",
       "  <tbody>\n",
       "    <tr>\n",
       "      <th>count</th>\n",
       "      <td>528134.000000</td>\n",
       "      <td>528134.000000</td>\n",
       "      <td>528134.000000</td>\n",
       "      <td>528134.000000</td>\n",
       "      <td>528134.000000</td>\n",
       "      <td>528134.000000</td>\n",
       "    </tr>\n",
       "    <tr>\n",
       "      <th>mean</th>\n",
       "      <td>0.976905</td>\n",
       "      <td>71674.254471</td>\n",
       "      <td>2016.057254</td>\n",
       "      <td>157.066091</td>\n",
       "      <td>24.951001</td>\n",
       "      <td>0.185885</td>\n",
       "    </tr>\n",
       "    <tr>\n",
       "      <th>std</th>\n",
       "      <td>0.150204</td>\n",
       "      <td>31996.910281</td>\n",
       "      <td>5.562806</td>\n",
       "      <td>14.778197</td>\n",
       "      <td>16.464033</td>\n",
       "      <td>0.599737</td>\n",
       "    </tr>\n",
       "    <tr>\n",
       "      <th>min</th>\n",
       "      <td>0.000000</td>\n",
       "      <td>0.000000</td>\n",
       "      <td>0.000000</td>\n",
       "      <td>0.000000</td>\n",
       "      <td>0.000000</td>\n",
       "      <td>0.000000</td>\n",
       "    </tr>\n",
       "    <tr>\n",
       "      <th>25%</th>\n",
       "      <td>1.000000</td>\n",
       "      <td>55910.000000</td>\n",
       "      <td>2016.000000</td>\n",
       "      <td>157.000000</td>\n",
       "      <td>9.000000</td>\n",
       "      <td>0.000000</td>\n",
       "    </tr>\n",
       "    <tr>\n",
       "      <th>50%</th>\n",
       "      <td>1.000000</td>\n",
       "      <td>68827.000000</td>\n",
       "      <td>2016.000000</td>\n",
       "      <td>157.000000</td>\n",
       "      <td>24.000000</td>\n",
       "      <td>0.000000</td>\n",
       "    </tr>\n",
       "    <tr>\n",
       "      <th>75%</th>\n",
       "      <td>1.000000</td>\n",
       "      <td>87214.000000</td>\n",
       "      <td>2016.000000</td>\n",
       "      <td>157.000000</td>\n",
       "      <td>39.000000</td>\n",
       "      <td>0.000000</td>\n",
       "    </tr>\n",
       "    <tr>\n",
       "      <th>max</th>\n",
       "      <td>1.000000</td>\n",
       "      <td>414007.000000</td>\n",
       "      <td>2017.000000</td>\n",
       "      <td>235.000000</td>\n",
       "      <td>54.000000</td>\n",
       "      <td>3.000000</td>\n",
       "    </tr>\n",
       "  </tbody>\n",
       "</table>\n",
       "</div>"
      ],
      "text/plain": [
       "       FULL_TIME_POSITION  PREVAILING_WAGE  PW_SOURCE_YEAR  PW_SOURCE_OTHER  \\\n",
       "count       528134.000000    528134.000000   528134.000000    528134.000000   \n",
       "mean             0.976905     71674.254471     2016.057254       157.066091   \n",
       "std              0.150204     31996.910281        5.562806        14.778197   \n",
       "min              0.000000         0.000000        0.000000         0.000000   \n",
       "25%              1.000000     55910.000000     2016.000000       157.000000   \n",
       "50%              1.000000     68827.000000     2016.000000       157.000000   \n",
       "75%              1.000000     87214.000000     2016.000000       157.000000   \n",
       "max              1.000000    414007.000000     2017.000000       235.000000   \n",
       "\n",
       "       WORKSITE_STATE    CASE_STATUS  \n",
       "count   528134.000000  528134.000000  \n",
       "mean        24.951001       0.185885  \n",
       "std         16.464033       0.599737  \n",
       "min          0.000000       0.000000  \n",
       "25%          9.000000       0.000000  \n",
       "50%         24.000000       0.000000  \n",
       "75%         39.000000       0.000000  \n",
       "max         54.000000       3.000000  "
      ]
     },
     "execution_count": 46,
     "metadata": {},
     "output_type": "execute_result"
    }
   ],
   "source": [
    "dataset.describe()"
   ]
  },
  {
   "cell_type": "code",
   "execution_count": 47,
   "metadata": {},
   "outputs": [],
   "source": [
    "import matplotlib.pyplot as plt\n",
    "%matplotlib inline"
   ]
  },
  {
   "cell_type": "code",
   "execution_count": 39,
   "metadata": {},
   "outputs": [
    {
     "data": {
      "text/plain": [
       "<matplotlib.collections.PathCollection at 0x8d98efcf08>"
      ]
     },
     "execution_count": 39,
     "metadata": {},
     "output_type": "execute_result"
    },
    {
     "data": {
      "image/png": "[encoded data removed]",
      "text/plain": [
       "<Figure size 432x288 with 1 Axes>"
      ]
     },
     "metadata": {
      "needs_background": "light"
     },
     "output_type": "display_data"
    }
   ],
   "source": [
    "plt.scatter(dataset['FULL_TIME_POSITION'],dataset['WORKSITE_STATE'])"
   ]
  },
  {
   "cell_type": "code",
   "execution_count": 40,
   "metadata": {},
   "outputs": [
    {
     "data": {
      "text/plain": [
       "<matplotlib.collections.PathCollection at 0x8d98faec88>"
      ]
     },
     "execution_count": 40,
     "metadata": {},
     "output_type": "execute_result"
    },
    {
     "data": {
      "image/png": "[encoded data removed]",
      "text/plain": [
       "<Figure size 432x288 with 1 Axes>"
      ]
     },
     "metadata": {
      "needs_background": "light"
     },
     "output_type": "display_data"
    }
   ],
   "source": [
    "plt.scatter(dataset['CASE_STATUS'],dataset['WORKSITE_STATE'])"
   ]
  },
  {
   "cell_type": "code",
   "execution_count": 41,
   "metadata": {},
   "outputs": [
    {
     "data": {
      "text/plain": [
       "[<matplotlib.lines.Line2D at 0x8d99017c88>]"
      ]
     },
     "execution_count": 41,
     "metadata": {},
     "output_type": "execute_result"
    },
    {
     "data": {
      "image/png": "[encoded data removed]",
      "text/plain": [
       "<Figure size 432x288 with 1 Axes>"
      ]
     },
     "metadata": {
      "needs_background": "light"
     },
     "output_type": "display_data"
    }
   ],
   "source": [
    "plt.plot(dataset['CASE_STATUS'],dataset['FULL_TIME_POSITION'],'g')"
   ]
  },
  {
   "cell_type": "code",
   "execution_count": 48,
   "metadata": {},
   "outputs": [],
   "source": [
    "from sklearn.preprocessing import OneHotEncoder\n",
    "one=OneHotEncoder()\n",
    "z=one.fit_transform(x[:,3:4]).toarray()\n",
    "x=np.delete(x,3,axis=1)\n",
    "x=np.concatenate((z,x),axis=1)"
   ]
  },
  {
   "cell_type": "code",
   "execution_count": 49,
   "metadata": {},
   "outputs": [
    {
     "data": {
      "text/plain": [
       "(528134, 58)"
      ]
     },
     "execution_count": 49,
     "metadata": {},
     "output_type": "execute_result"
    }
   ],
   "source": [
    "x.shape"
   ]
  },
  {
   "cell_type": "code",
   "execution_count": 51,
   "metadata": {},
   "outputs": [
    {
     "data": {
      "text/plain": [
       "(528134, 1)"
      ]
     },
     "execution_count": 51,
     "metadata": {},
     "output_type": "execute_result"
    }
   ],
   "source": [
    "y.shape"
   ]
  },
  {
   "cell_type": "code",
   "execution_count": 50,
   "metadata": {},
   "outputs": [
    {
     "data": {
      "text/plain": [
       "array([[0., 0., 0., ..., 0., 0., 0.],\n",
       "       [0., 0., 0., ..., 0., 0., 0.],\n",
       "       [0., 0., 0., ..., 0., 0., 0.],\n",
       "       ...,\n",
       "       [0., 0., 0., ..., 0., 0., 0.],\n",
       "       [0., 0., 0., ..., 0., 0., 0.],\n",
       "       [0., 0., 0., ..., 0., 0., 0.]])"
      ]
     },
     "execution_count": 50,
     "metadata": {},
     "output_type": "execute_result"
    }
   ],
   "source": [
    "z"
   ]
  },
  {
   "cell_type": "code",
   "execution_count": 52,
   "metadata": {},
   "outputs": [
    {
     "data": {
      "text/html": [
       "<div>\n",
       "<style scoped>\n",
       "    .dataframe tbody tr th:only-of-type {\n",
       "        vertical-align: middle;\n",
       "    }\n",
       "\n",
       "    .dataframe tbody tr th {\n",
       "        vertical-align: top;\n",
       "    }\n",
       "\n",
       "    .dataframe thead th {\n",
       "        text-align: right;\n",
       "    }\n",
       "</style>\n",
       "<table border=\"1\" class=\"dataframe\">\n",
       "  <thead>\n",
       "    <tr style=\"text-align: right;\">\n",
       "      <th></th>\n",
       "      <th>FULL_TIME_POSITION</th>\n",
       "      <th>PREVAILING_WAGE</th>\n",
       "      <th>PW_SOURCE_YEAR</th>\n",
       "      <th>PW_SOURCE_OTHER</th>\n",
       "      <th>WORKSITE_STATE</th>\n",
       "      <th>CASE_STATUS</th>\n",
       "    </tr>\n",
       "  </thead>\n",
       "  <tbody>\n",
       "    <tr>\n",
       "      <th>count</th>\n",
       "      <td>528134.000000</td>\n",
       "      <td>528134.000000</td>\n",
       "      <td>528134.000000</td>\n",
       "      <td>528134.000000</td>\n",
       "      <td>528134.000000</td>\n",
       "      <td>528134.000000</td>\n",
       "    </tr>\n",
       "    <tr>\n",
       "      <th>mean</th>\n",
       "      <td>0.976905</td>\n",
       "      <td>71674.254471</td>\n",
       "      <td>2016.057254</td>\n",
       "      <td>157.066091</td>\n",
       "      <td>24.951001</td>\n",
       "      <td>0.185885</td>\n",
       "    </tr>\n",
       "    <tr>\n",
       "      <th>std</th>\n",
       "      <td>0.150204</td>\n",
       "      <td>31996.910281</td>\n",
       "      <td>5.562806</td>\n",
       "      <td>14.778197</td>\n",
       "      <td>16.464033</td>\n",
       "      <td>0.599737</td>\n",
       "    </tr>\n",
       "    <tr>\n",
       "      <th>min</th>\n",
       "      <td>0.000000</td>\n",
       "      <td>0.000000</td>\n",
       "      <td>0.000000</td>\n",
       "      <td>0.000000</td>\n",
       "      <td>0.000000</td>\n",
       "      <td>0.000000</td>\n",
       "    </tr>\n",
       "    <tr>\n",
       "      <th>25%</th>\n",
       "      <td>1.000000</td>\n",
       "      <td>55910.000000</td>\n",
       "      <td>2016.000000</td>\n",
       "      <td>157.000000</td>\n",
       "      <td>9.000000</td>\n",
       "      <td>0.000000</td>\n",
       "    </tr>\n",
       "    <tr>\n",
       "      <th>50%</th>\n",
       "      <td>1.000000</td>\n",
       "      <td>68827.000000</td>\n",
       "      <td>2016.000000</td>\n",
       "      <td>157.000000</td>\n",
       "      <td>24.000000</td>\n",
       "      <td>0.000000</td>\n",
       "    </tr>\n",
       "    <tr>\n",
       "      <th>75%</th>\n",
       "      <td>1.000000</td>\n",
       "      <td>87214.000000</td>\n",
       "      <td>2016.000000</td>\n",
       "      <td>157.000000</td>\n",
       "      <td>39.000000</td>\n",
       "      <td>0.000000</td>\n",
       "    </tr>\n",
       "    <tr>\n",
       "      <th>max</th>\n",
       "      <td>1.000000</td>\n",
       "      <td>414007.000000</td>\n",
       "      <td>2017.000000</td>\n",
       "      <td>235.000000</td>\n",
       "      <td>54.000000</td>\n",
       "      <td>3.000000</td>\n",
       "    </tr>\n",
       "  </tbody>\n",
       "</table>\n",
       "</div>"
      ],
      "text/plain": [
       "       FULL_TIME_POSITION  PREVAILING_WAGE  PW_SOURCE_YEAR  PW_SOURCE_OTHER  \\\n",
       "count       528134.000000    528134.000000   528134.000000    528134.000000   \n",
       "mean             0.976905     71674.254471     2016.057254       157.066091   \n",
       "std              0.150204     31996.910281        5.562806        14.778197   \n",
       "min              0.000000         0.000000        0.000000         0.000000   \n",
       "25%              1.000000     55910.000000     2016.000000       157.000000   \n",
       "50%              1.000000     68827.000000     2016.000000       157.000000   \n",
       "75%              1.000000     87214.000000     2016.000000       157.000000   \n",
       "max              1.000000    414007.000000     2017.000000       235.000000   \n",
       "\n",
       "       WORKSITE_STATE    CASE_STATUS  \n",
       "count   528134.000000  528134.000000  \n",
       "mean        24.951001       0.185885  \n",
       "std         16.464033       0.599737  \n",
       "min          0.000000       0.000000  \n",
       "25%          9.000000       0.000000  \n",
       "50%         24.000000       0.000000  \n",
       "75%         39.000000       0.000000  \n",
       "max         54.000000       3.000000  "
      ]
     },
     "execution_count": 52,
     "metadata": {},
     "output_type": "execute_result"
    }
   ],
   "source": [
    "dataset.describe()"
   ]
  },
  {
   "cell_type": "code",
   "execution_count": 53,
   "metadata": {},
   "outputs": [],
   "source": [
    "from sklearn.model_selection import train_test_split\n",
    "x_train,x_test,y_train,y_test=train_test_split(x,y,test_size=0.2,random_state=0)"
   ]
  },
  {
   "cell_type": "code",
   "execution_count": 62,
   "metadata": {},
   "outputs": [
    {
     "data": {
      "text/plain": [
       "(422507, 58)"
      ]
     },
     "execution_count": 62,
     "metadata": {},
     "output_type": "execute_result"
    }
   ],
   "source": [
    "x_train.shape"
   ]
  },
  {
   "cell_type": "code",
   "execution_count": 63,
   "metadata": {},
   "outputs": [
    {
     "data": {
      "text/plain": [
       "(105627, 58)"
      ]
     },
     "execution_count": 63,
     "metadata": {},
     "output_type": "execute_result"
    }
   ],
   "source": [
    "x_test.shape"
   ]
  },
  {
   "cell_type": "code",
   "execution_count": 64,
   "metadata": {},
   "outputs": [
    {
     "data": {
      "text/plain": [
       "(422507, 1)"
      ]
     },
     "execution_count": 64,
     "metadata": {},
     "output_type": "execute_result"
    }
   ],
   "source": [
    "y_train.shape"
   ]
  },
  {
   "cell_type": "code",
   "execution_count": 65,
   "metadata": {},
   "outputs": [
    {
     "data": {
      "text/plain": [
       "(105627, 1)"
      ]
     },
     "execution_count": 65,
     "metadata": {},
     "output_type": "execute_result"
    }
   ],
   "source": [
    "y_test.shape"
   ]
  },
  {
   "cell_type": "code",
   "execution_count": 67,
   "metadata": {},
   "outputs": [
    {
     "name": "stdout",
     "output_type": "stream",
     "text": [
      "x_train without random state for the iteration 0 [[0.0000e+00 0.0000e+00 0.0000e+00 ... 6.4418e+04 2.0170e+03 1.5700e+02]\n",
      " [0.0000e+00 0.0000e+00 0.0000e+00 ... 5.5765e+04 2.0160e+03 1.5700e+02]\n",
      " [0.0000e+00 0.0000e+00 0.0000e+00 ... 7.1906e+04 2.0160e+03 1.5700e+02]\n",
      " ...\n",
      " [0.0000e+00 0.0000e+00 0.0000e+00 ... 8.3325e+04 2.0160e+03 1.5700e+02]\n",
      " [0.0000e+00 0.0000e+00 1.0000e+00 ... 1.1086e+05 2.0170e+03 1.5700e+02]\n",
      " [0.0000e+00 0.0000e+00 0.0000e+00 ... 2.3050e+01 2.0160e+03 1.5700e+02]]\n",
      "x_train without random state for the iteration 1 [[0.0000e+00 0.0000e+00 0.0000e+00 ... 6.4418e+04 2.0170e+03 1.5700e+02]\n",
      " [0.0000e+00 0.0000e+00 0.0000e+00 ... 5.5765e+04 2.0160e+03 1.5700e+02]\n",
      " [0.0000e+00 0.0000e+00 0.0000e+00 ... 7.1906e+04 2.0160e+03 1.5700e+02]\n",
      " ...\n",
      " [0.0000e+00 0.0000e+00 0.0000e+00 ... 8.3325e+04 2.0160e+03 1.5700e+02]\n",
      " [0.0000e+00 0.0000e+00 1.0000e+00 ... 1.1086e+05 2.0170e+03 1.5700e+02]\n",
      " [0.0000e+00 0.0000e+00 0.0000e+00 ... 2.3050e+01 2.0160e+03 1.5700e+02]]\n",
      "x_train without random state for the iteration 2 [[0.0000e+00 0.0000e+00 0.0000e+00 ... 6.4418e+04 2.0170e+03 1.5700e+02]\n",
      " [0.0000e+00 0.0000e+00 0.0000e+00 ... 5.5765e+04 2.0160e+03 1.5700e+02]\n",
      " [0.0000e+00 0.0000e+00 0.0000e+00 ... 7.1906e+04 2.0160e+03 1.5700e+02]\n",
      " ...\n",
      " [0.0000e+00 0.0000e+00 0.0000e+00 ... 8.3325e+04 2.0160e+03 1.5700e+02]\n",
      " [0.0000e+00 0.0000e+00 1.0000e+00 ... 1.1086e+05 2.0170e+03 1.5700e+02]\n",
      " [0.0000e+00 0.0000e+00 0.0000e+00 ... 2.3050e+01 2.0160e+03 1.5700e+02]]\n",
      "x_train without random state for the iteration 3 [[0.0000e+00 0.0000e+00 0.0000e+00 ... 6.4418e+04 2.0170e+03 1.5700e+02]\n",
      " [0.0000e+00 0.0000e+00 0.0000e+00 ... 5.5765e+04 2.0160e+03 1.5700e+02]\n",
      " [0.0000e+00 0.0000e+00 0.0000e+00 ... 7.1906e+04 2.0160e+03 1.5700e+02]\n",
      " ...\n",
      " [0.0000e+00 0.0000e+00 0.0000e+00 ... 8.3325e+04 2.0160e+03 1.5700e+02]\n",
      " [0.0000e+00 0.0000e+00 1.0000e+00 ... 1.1086e+05 2.0170e+03 1.5700e+02]\n",
      " [0.0000e+00 0.0000e+00 0.0000e+00 ... 2.3050e+01 2.0160e+03 1.5700e+02]]\n",
      "x_train without random state for the iteration 4 [[0.0000e+00 0.0000e+00 0.0000e+00 ... 6.4418e+04 2.0170e+03 1.5700e+02]\n",
      " [0.0000e+00 0.0000e+00 0.0000e+00 ... 5.5765e+04 2.0160e+03 1.5700e+02]\n",
      " [0.0000e+00 0.0000e+00 0.0000e+00 ... 7.1906e+04 2.0160e+03 1.5700e+02]\n",
      " ...\n",
      " [0.0000e+00 0.0000e+00 0.0000e+00 ... 8.3325e+04 2.0160e+03 1.5700e+02]\n",
      " [0.0000e+00 0.0000e+00 1.0000e+00 ... 1.1086e+05 2.0170e+03 1.5700e+02]\n",
      " [0.0000e+00 0.0000e+00 0.0000e+00 ... 2.3050e+01 2.0160e+03 1.5700e+02]]\n",
      "x_train with random state for the iteration 0 [[0.0000e+00 0.0000e+00 0.0000e+00 ... 6.4418e+04 2.0170e+03 1.5700e+02]\n",
      " [0.0000e+00 0.0000e+00 0.0000e+00 ... 5.5765e+04 2.0160e+03 1.5700e+02]\n",
      " [0.0000e+00 0.0000e+00 0.0000e+00 ... 7.1906e+04 2.0160e+03 1.5700e+02]\n",
      " ...\n",
      " [0.0000e+00 0.0000e+00 0.0000e+00 ... 8.3325e+04 2.0160e+03 1.5700e+02]\n",
      " [0.0000e+00 0.0000e+00 1.0000e+00 ... 1.1086e+05 2.0170e+03 1.5700e+02]\n",
      " [0.0000e+00 0.0000e+00 0.0000e+00 ... 2.3050e+01 2.0160e+03 1.5700e+02]]\n",
      "x_train with random state for the iteration 1 [[0.0000e+00 0.0000e+00 0.0000e+00 ... 6.4418e+04 2.0170e+03 1.5700e+02]\n",
      " [0.0000e+00 0.0000e+00 0.0000e+00 ... 5.5765e+04 2.0160e+03 1.5700e+02]\n",
      " [0.0000e+00 0.0000e+00 0.0000e+00 ... 7.1906e+04 2.0160e+03 1.5700e+02]\n",
      " ...\n",
      " [0.0000e+00 0.0000e+00 0.0000e+00 ... 8.3325e+04 2.0160e+03 1.5700e+02]\n",
      " [0.0000e+00 0.0000e+00 1.0000e+00 ... 1.1086e+05 2.0170e+03 1.5700e+02]\n",
      " [0.0000e+00 0.0000e+00 0.0000e+00 ... 2.3050e+01 2.0160e+03 1.5700e+02]]\n",
      "x_train with random state for the iteration 2 [[0.0000e+00 0.0000e+00 0.0000e+00 ... 6.4418e+04 2.0170e+03 1.5700e+02]\n",
      " [0.0000e+00 0.0000e+00 0.0000e+00 ... 5.5765e+04 2.0160e+03 1.5700e+02]\n",
      " [0.0000e+00 0.0000e+00 0.0000e+00 ... 7.1906e+04 2.0160e+03 1.5700e+02]\n",
      " ...\n",
      " [0.0000e+00 0.0000e+00 0.0000e+00 ... 8.3325e+04 2.0160e+03 1.5700e+02]\n",
      " [0.0000e+00 0.0000e+00 1.0000e+00 ... 1.1086e+05 2.0170e+03 1.5700e+02]\n",
      " [0.0000e+00 0.0000e+00 0.0000e+00 ... 2.3050e+01 2.0160e+03 1.5700e+02]]\n",
      "x_train with random state for the iteration 3 [[0.0000e+00 0.0000e+00 0.0000e+00 ... 6.4418e+04 2.0170e+03 1.5700e+02]\n",
      " [0.0000e+00 0.0000e+00 0.0000e+00 ... 5.5765e+04 2.0160e+03 1.5700e+02]\n",
      " [0.0000e+00 0.0000e+00 0.0000e+00 ... 7.1906e+04 2.0160e+03 1.5700e+02]\n",
      " ...\n",
      " [0.0000e+00 0.0000e+00 0.0000e+00 ... 8.3325e+04 2.0160e+03 1.5700e+02]\n",
      " [0.0000e+00 0.0000e+00 1.0000e+00 ... 1.1086e+05 2.0170e+03 1.5700e+02]\n",
      " [0.0000e+00 0.0000e+00 0.0000e+00 ... 2.3050e+01 2.0160e+03 1.5700e+02]]\n",
      "x_train with random state for the iteration 4 [[0.0000e+00 0.0000e+00 0.0000e+00 ... 6.4418e+04 2.0170e+03 1.5700e+02]\n",
      " [0.0000e+00 0.0000e+00 0.0000e+00 ... 5.5765e+04 2.0160e+03 1.5700e+02]\n",
      " [0.0000e+00 0.0000e+00 0.0000e+00 ... 7.1906e+04 2.0160e+03 1.5700e+02]\n",
      " ...\n",
      " [0.0000e+00 0.0000e+00 0.0000e+00 ... 8.3325e+04 2.0160e+03 1.5700e+02]\n",
      " [0.0000e+00 0.0000e+00 1.0000e+00 ... 1.1086e+05 2.0170e+03 1.5700e+02]\n",
      " [0.0000e+00 0.0000e+00 0.0000e+00 ... 2.3050e+01 2.0160e+03 1.5700e+02]]\n"
     ]
    }
   ],
   "source": [
    "from sklearn.model_selection import train_test_split\n",
    "for i in range(5):\n",
    "    x_train1,x_test1,y_train1,y_test1= train_test_split(x,y,test_size=0.2)\n",
    "    \n",
    "    print (\"x_train without random state for the iteration\",i,x_train)\n",
    "    \n",
    "for i in range(5):\n",
    "    x_train1,x_test1,y_train1,y_test1= train_test_split(x,y,test_size=0.2,random_state=0)\n",
    "    \n",
    "    print (\"x_train with random state for the iteration\",i,x_train)"
   ]
  },
  {
   "cell_type": "code",
   "execution_count": 68,
   "metadata": {},
   "outputs": [],
   "source": [
    "from sklearn.preprocessing import StandardScaler\n",
    "sc=StandardScaler()\n",
    "x_train=sc.fit_transform(x_train)\n",
    "x_test=sc.fit_transform(x_test)"
   ]
  },
  {
   "cell_type": "code",
   "execution_count": 69,
   "metadata": {},
   "outputs": [
    {
     "data": {
      "text/plain": [
       "array([[-1.81410281e-02, -5.22424834e-02, -6.81635047e-02, ...,\n",
       "        -2.27260295e-01,  2.12788330e-01, -3.92413693e-03],\n",
       "       [-1.81410281e-02, -5.22424834e-02, -6.81635047e-02, ...,\n",
       "        -4.97666142e-01, -1.43649918e-02, -3.92413693e-03],\n",
       "       [-1.81410281e-02, -5.22424834e-02, -6.81635047e-02, ...,\n",
       "         6.73935672e-03, -1.43649918e-02, -3.92413693e-03],\n",
       "       ...,\n",
       "       [-1.81410281e-02, -5.22424834e-02, -6.81635047e-02, ...,\n",
       "         3.63582575e-01, -1.43649918e-02, -3.92413693e-03],\n",
       "       [-1.81410281e-02, -5.22424834e-02,  1.46706072e+01, ...,\n",
       "         1.22405004e+00,  2.12788330e-01, -3.92413693e-03],\n",
       "       [-1.81410281e-02, -5.22424834e-02, -6.81635047e-02, ...,\n",
       "        -2.23959949e+00, -1.43649918e-02, -3.92413693e-03]])"
      ]
     },
     "execution_count": 69,
     "metadata": {},
     "output_type": "execute_result"
    }
   ],
   "source": [
    "x_train"
   ]
  },
  {
   "cell_type": "code",
   "execution_count": 70,
   "metadata": {},
   "outputs": [
    {
     "data": {
      "text/plain": [
       "array([[1],\n",
       "       [3],\n",
       "       [0],\n",
       "       ...,\n",
       "       [0],\n",
       "       [0],\n",
       "       [0]])"
      ]
     },
     "execution_count": 70,
     "metadata": {},
     "output_type": "execute_result"
    }
   ],
   "source": [
    "y_test"
   ]
  },
  {
   "cell_type": "code",
   "execution_count": null,
   "metadata": {},
   "outputs": [],
   "source": []
  }
 ],
 "metadata": {
  "kernelspec": {
   "display_name": "Python 3",
   "language": "python",
   "name": "python3"
  },
  "language_info": {
   "codemirror_mode": {
    "name": "ipython",
    "version": 3
   },
   "file_extension": ".py",
   "mimetype": "text/x-python",
   "name": "python",
   "nbconvert_exporter": "python",
   "pygments_lexer": "ipython3",
   "version": "3.7.6"
  }
 },
 "nbformat": 4,
 "nbformat_minor": 4
}
